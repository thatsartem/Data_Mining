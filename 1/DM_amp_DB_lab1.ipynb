{
 "cells": [
  {
   "cell_type": "markdown",
   "metadata": {},
   "source": [
    " "
   ]
  },
  {
   "cell_type": "markdown",
   "metadata": {},
   "source": [
    "## О Jupyter notebook"
   ]
  },
  {
   "cell_type": "markdown",
   "metadata": {
    "collapsed": true
   },
   "source": [
    "Jupyter Notebook — это среда разработки, где сразу можно видеть результат выполнения кода и его отдельных фрагментов. Отличие от традиционной среды разработки в том, что код можно разбить на куски и выполнять их в произвольном порядке.\n",
    "Для запуска кода в ячейке можно воспользоваться меню сверху или нажать клавиши \"Enter+Shift\".\n",
    "\n",
    "Основная область применения ноутбуков — машинное обучение, нейросети, визуализация данных и статистика.\n",
    "\n",
    "Ещё такую среду часто используют для поэтапной разработки, когда нужно по шагам проверять работу разных фрагментов кода. Дело в том, что код в ноутбуках хранится в независимых ячейках и его можно запускать в любом порядке или поодиночке. Это позволяет быстро экспериментировать с алгоритмами и находить оптимальное решение.\n",
    "\n",
    "Также jupyter-ноутбуки используются при обучении программированию на Python, чтобы писать код и сразу видеть результат его работы.\n",
    "\n",
    "Есть два основных типа ячеек, которые мы рассмотрим:\n",
    "\n",
    "- Ячейка кода содержит код, который должен быть выполнен в ядре, и отображает его вывод ниже.\n",
    "- Ячейка Markdown содержит текст, отформатированный с использованием Markdown, и отображает его вывод на месте при запуске."
   ]
  },
  {
   "cell_type": "code",
   "execution_count": 1,
   "metadata": {},
   "outputs": [
    {
     "data": {
      "text/plain": [
       "4"
      ]
     },
     "execution_count": 1,
     "metadata": {},
     "output_type": "execute_result"
    }
   ],
   "source": [
    "# ячейка с кодом, при выполнении которой появится output\n",
    "2 + 2"
   ]
  },
  {
   "cell_type": "markdown",
   "metadata": {},
   "source": [
    "А это ___ячейка с текстом___."
   ]
  },
  {
   "cell_type": "raw",
   "metadata": {},
   "source": [
    "Ячейка с неразмеченыным текстом."
   ]
  },
  {
   "cell_type": "markdown",
   "metadata": {},
   "source": [
    "Попробуйте создать свои ячейки, написать какой-нибудь код и текст какой-нибудь формулой."
   ]
  },
  {
   "cell_type": "code",
   "execution_count": null,
   "metadata": {},
   "outputs": [],
   "source": [
    "# your code\n",
    "3 + 3"
   ]
  },
  {
   "cell_type": "markdown",
   "metadata": {},
   "source": [
    "[Здесь](https://athena.brynmawr.edu/jupyter/hub/dblank/public/Jupyter%20Notebook%20Users%20Manual.ipynb) находится <s>не</s>большая заметка о используемом языке разметки Markdown. Он позволяет:\n",
    "\n",
    "0. Составлять упорядоченные списки\n",
    "1. #Делать \n",
    "##заголовки \n",
    "###разного уровня\n",
    "3. Выделять *текст* <s>при</s> **необходимости**\n",
    "4. Добавлять [ссылки](http://imgs.xkcd.com/comics/the_universal_label.png)\n",
    "\n",
    "\n",
    "* Составлять неупорядоченные списки\n",
    "\n",
    "Делать вставки с помощью LaTex:\n",
    "    \n",
    "$\n",
    "\\left\\{\n",
    "\\begin{array}{ll}\n",
    "x = 16 \\sin^3 (t) \\\\ \n",
    "y = 13 \\cos (t) - 5 \\cos (2t) - 2 \\cos (3t) - \\cos (4t) \\\\\n",
    "t \\in [0, 2 \\pi]\n",
    "\\end{array}\n",
    "\\right.$"
   ]
  },
  {
   "cell_type": "markdown",
   "metadata": {},
   "source": [
    "## 1. Табличные данные и Pandas"
   ]
  },
  {
   "cell_type": "markdown",
   "metadata": {},
   "source": [
    "Pandas — это библиотека для работы с данными на Python. Она упрощает жизнь аналитикам: где раньше использовалось 10 строк кода теперь хватит одной.\n",
    "\n",
    "Например, чтобы прочитать данные из csv, в стандартном Python надо сначала решить, как хранить данные, затем открыть файл, прочитать его построчно, отделить значения друг от друга и очистить данные от специальных символов.\n",
    "\n",
    "В Pandas всё проще. Во-первых, не нужно думать, как будут храниться данные — они лежат в датафрейме. Во-вторых, достаточно написать одну команду:\n",
    "\n",
    " data = pd.read_csv('file.csv')\n",
    "\n",
    "Pandas добавляет в Python новые структуры данных — серии и датафреймы. \n",
    "\n",
    "Серии — одномерные массивы данных. Они очень похожи на списки, но отличаются по поведению — например, операции применяются к списку целиком, а в сериях — поэлементно.\n",
    "Еще одно отличие серий от списков — в качестве индексов можно использовать произвольные значения, это делает данные нагляднее.\n",
    "Датафрейм — это проиндексированный многомерный массив значений, соответственно каждый столбец датафрейма, является серией."
   ]
  },
  {
   "cell_type": "code",
   "execution_count": 4,
   "metadata": {},
   "outputs": [
    {
     "name": "stdout",
     "output_type": "stream",
     "text": [
      "%pylab is deprecated, use %matplotlib inline and import the required libraries.\n",
      "Populating the interactive namespace from numpy and matplotlib\n"
     ]
    }
   ],
   "source": [
    "%pylab inline  \n",
    "# import almost all we need\n",
    "import IPython\n",
    "import pandas as pd"
   ]
  },
  {
   "cell_type": "markdown",
   "metadata": {},
   "source": [
    "#### 1. Прочитайте файл с таблицей, выведите последние 10 строк.\n",
    "\n"
   ]
  },
  {
   "cell_type": "code",
   "execution_count": 5,
   "metadata": {
    "scrolled": true
   },
   "outputs": [
    {
     "data": {
      "text/html": [
       "<div>\n",
       "<style scoped>\n",
       "    .dataframe tbody tr th:only-of-type {\n",
       "        vertical-align: middle;\n",
       "    }\n",
       "\n",
       "    .dataframe tbody tr th {\n",
       "        vertical-align: top;\n",
       "    }\n",
       "\n",
       "    .dataframe thead th {\n",
       "        text-align: right;\n",
       "    }\n",
       "</style>\n",
       "<table border=\"1\" class=\"dataframe\">\n",
       "  <thead>\n",
       "    <tr style=\"text-align: right;\">\n",
       "      <th></th>\n",
       "      <th>event_time</th>\n",
       "      <th>order_id</th>\n",
       "      <th>product_id</th>\n",
       "      <th>category_id</th>\n",
       "      <th>category_code</th>\n",
       "      <th>brand</th>\n",
       "      <th>price</th>\n",
       "      <th>user_id</th>\n",
       "    </tr>\n",
       "  </thead>\n",
       "  <tbody>\n",
       "    <tr>\n",
       "      <th>2633511</th>\n",
       "      <td>2020-11-21 10:05:04 UTC</td>\n",
       "      <td>2388440981134693938</td>\n",
       "      <td>1515966223509088509</td>\n",
       "      <td>2.268105e+18</td>\n",
       "      <td>electronics.smartphone</td>\n",
       "      <td>apple</td>\n",
       "      <td>925.67</td>\n",
       "      <td>1.515916e+18</td>\n",
       "    </tr>\n",
       "    <tr>\n",
       "      <th>2633512</th>\n",
       "      <td>2020-11-21 10:06:01 UTC</td>\n",
       "      <td>2388440981134693939</td>\n",
       "      <td>1515966223509090132</td>\n",
       "      <td>2.268105e+18</td>\n",
       "      <td>computers.peripherals.printer</td>\n",
       "      <td>canon</td>\n",
       "      <td>299.98</td>\n",
       "      <td>1.515916e+18</td>\n",
       "    </tr>\n",
       "    <tr>\n",
       "      <th>2633513</th>\n",
       "      <td>2020-11-21 10:08:14 UTC</td>\n",
       "      <td>2388440981134693940</td>\n",
       "      <td>2273948246856434093</td>\n",
       "      <td>2.268105e+18</td>\n",
       "      <td>NaN</td>\n",
       "      <td>xiaomi</td>\n",
       "      <td>16.18</td>\n",
       "      <td>1.515916e+18</td>\n",
       "    </tr>\n",
       "    <tr>\n",
       "      <th>2633514</th>\n",
       "      <td>2020-11-21 10:08:54 UTC</td>\n",
       "      <td>2388440981134693941</td>\n",
       "      <td>1515966223519279912</td>\n",
       "      <td>2.374499e+18</td>\n",
       "      <td>electronics.video.tv</td>\n",
       "      <td>samsung</td>\n",
       "      <td>1736.09</td>\n",
       "      <td>1.515916e+18</td>\n",
       "    </tr>\n",
       "    <tr>\n",
       "      <th>2633515</th>\n",
       "      <td>2020-11-21 10:08:54 UTC</td>\n",
       "      <td>2388440981134693941</td>\n",
       "      <td>1515966223509088622</td>\n",
       "      <td>2.374499e+18</td>\n",
       "      <td>electronics.video.tv</td>\n",
       "      <td>lg</td>\n",
       "      <td>370.35</td>\n",
       "      <td>1.515916e+18</td>\n",
       "    </tr>\n",
       "    <tr>\n",
       "      <th>2633516</th>\n",
       "      <td>2020-11-21 10:10:01 UTC</td>\n",
       "      <td>2388440981134693942</td>\n",
       "      <td>1515966223526602848</td>\n",
       "      <td>2.268105e+18</td>\n",
       "      <td>electronics.smartphone</td>\n",
       "      <td>oppo</td>\n",
       "      <td>138.87</td>\n",
       "      <td>1.515916e+18</td>\n",
       "    </tr>\n",
       "    <tr>\n",
       "      <th>2633517</th>\n",
       "      <td>2020-11-21 10:10:13 UTC</td>\n",
       "      <td>2388440981134693943</td>\n",
       "      <td>1515966223509089282</td>\n",
       "      <td>2.268105e+18</td>\n",
       "      <td>electronics.smartphone</td>\n",
       "      <td>apple</td>\n",
       "      <td>418.96</td>\n",
       "      <td>1.515916e+18</td>\n",
       "    </tr>\n",
       "    <tr>\n",
       "      <th>2633518</th>\n",
       "      <td>2020-11-21 10:10:30 UTC</td>\n",
       "      <td>2388440981134693944</td>\n",
       "      <td>1515966223509089917</td>\n",
       "      <td>2.268105e+18</td>\n",
       "      <td>appliances.personal.scales</td>\n",
       "      <td>vitek</td>\n",
       "      <td>12.48</td>\n",
       "      <td>1.515916e+18</td>\n",
       "    </tr>\n",
       "    <tr>\n",
       "      <th>2633519</th>\n",
       "      <td>2020-11-21 10:10:30 UTC</td>\n",
       "      <td>2388440981134693944</td>\n",
       "      <td>2273948184839454837</td>\n",
       "      <td>2.268105e+18</td>\n",
       "      <td>NaN</td>\n",
       "      <td>moulinex</td>\n",
       "      <td>41.64</td>\n",
       "      <td>1.515916e+18</td>\n",
       "    </tr>\n",
       "    <tr>\n",
       "      <th>2633520</th>\n",
       "      <td>2020-11-21 10:10:30 UTC</td>\n",
       "      <td>2388440981134693944</td>\n",
       "      <td>1515966223509127566</td>\n",
       "      <td>2.268105e+18</td>\n",
       "      <td>appliances.kitchen.blender</td>\n",
       "      <td>redmond</td>\n",
       "      <td>53.22</td>\n",
       "      <td>1.515916e+18</td>\n",
       "    </tr>\n",
       "  </tbody>\n",
       "</table>\n",
       "</div>"
      ],
      "text/plain": [
       "                      event_time             order_id           product_id  \\\n",
       "2633511  2020-11-21 10:05:04 UTC  2388440981134693938  1515966223509088509   \n",
       "2633512  2020-11-21 10:06:01 UTC  2388440981134693939  1515966223509090132   \n",
       "2633513  2020-11-21 10:08:14 UTC  2388440981134693940  2273948246856434093   \n",
       "2633514  2020-11-21 10:08:54 UTC  2388440981134693941  1515966223519279912   \n",
       "2633515  2020-11-21 10:08:54 UTC  2388440981134693941  1515966223509088622   \n",
       "2633516  2020-11-21 10:10:01 UTC  2388440981134693942  1515966223526602848   \n",
       "2633517  2020-11-21 10:10:13 UTC  2388440981134693943  1515966223509089282   \n",
       "2633518  2020-11-21 10:10:30 UTC  2388440981134693944  1515966223509089917   \n",
       "2633519  2020-11-21 10:10:30 UTC  2388440981134693944  2273948184839454837   \n",
       "2633520  2020-11-21 10:10:30 UTC  2388440981134693944  1515966223509127566   \n",
       "\n",
       "          category_id                  category_code     brand    price  \\\n",
       "2633511  2.268105e+18         electronics.smartphone     apple   925.67   \n",
       "2633512  2.268105e+18  computers.peripherals.printer     canon   299.98   \n",
       "2633513  2.268105e+18                            NaN    xiaomi    16.18   \n",
       "2633514  2.374499e+18           electronics.video.tv   samsung  1736.09   \n",
       "2633515  2.374499e+18           electronics.video.tv        lg   370.35   \n",
       "2633516  2.268105e+18         electronics.smartphone      oppo   138.87   \n",
       "2633517  2.268105e+18         electronics.smartphone     apple   418.96   \n",
       "2633518  2.268105e+18     appliances.personal.scales     vitek    12.48   \n",
       "2633519  2.268105e+18                            NaN  moulinex    41.64   \n",
       "2633520  2.268105e+18     appliances.kitchen.blender   redmond    53.22   \n",
       "\n",
       "              user_id  \n",
       "2633511  1.515916e+18  \n",
       "2633512  1.515916e+18  \n",
       "2633513  1.515916e+18  \n",
       "2633514  1.515916e+18  \n",
       "2633515  1.515916e+18  \n",
       "2633516  1.515916e+18  \n",
       "2633517  1.515916e+18  \n",
       "2633518  1.515916e+18  \n",
       "2633519  1.515916e+18  \n",
       "2633520  1.515916e+18  "
      ]
     },
     "execution_count": 5,
     "metadata": {},
     "output_type": "execute_result"
    }
   ],
   "source": [
    "data = pd.read_csv(\"data_for_lab_1.csv\")\n",
    "data.shape\n",
    "data[-10:]\n"
   ]
  },
  {
   "cell_type": "markdown",
   "metadata": {
    "scrolled": true
   },
   "source": [
    "#### 2. Выведите следующую информацию:\n",
    "1. Сколько всего заказов в исходной выборке данных?\n",
    "2. Количество уникальных категорий товара (category_code)"
   ]
  },
  {
   "cell_type": "code",
   "execution_count": 6,
   "metadata": {
    "scrolled": true
   },
   "outputs": [
    {
     "data": {
      "text/plain": [
       "1435266"
      ]
     },
     "execution_count": 6,
     "metadata": {},
     "output_type": "execute_result"
    }
   ],
   "source": [
    "len(data.order_id.unique())"
   ]
  },
  {
   "cell_type": "code",
   "execution_count": 7,
   "metadata": {
    "scrolled": true
   },
   "outputs": [
    {
     "data": {
      "text/plain": [
       "511"
      ]
     },
     "execution_count": 7,
     "metadata": {},
     "output_type": "execute_result"
    }
   ],
   "source": [
    "len(data.category_code.unique())"
   ]
  },
  {
   "cell_type": "markdown",
   "metadata": {},
   "source": [
    "#### 3. Найдите столбцы с пустыми значениями, заполните строковые значения пустой строкой, числовые - 0."
   ]
  },
  {
   "cell_type": "code",
   "execution_count": 8,
   "metadata": {
    "scrolled": true
   },
   "outputs": [],
   "source": [
    "# your codeн\n",
    "pivot = data\n",
    "pivot['price'].fillna(value = 0, inplace = True)\n",
    "pivot['category_code'].fillna(value = \"\", inplace = True)\n",
    "pivot['category_id'].fillna(value = 0, inplace = True)\n",
    "pivot['user_id'].fillna(value = 0, inplace = True)\n",
    "pivot['brand'].fillna(value = \"\", inplace = True)\n",
    "pivot = pivot[pivot.price>0]\n",
    "\n",
    "\n"
   ]
  },
  {
   "cell_type": "markdown",
   "metadata": {},
   "source": [
    "#### 4.  Обратите внимание на колонку, содержащую цену товара. Создайте новую колонку, таким образом, чтобы цена стала числом.\n",
    "\n",
    "Для этого необходимо применить функцию-преобразование к каждой строке таблицы (для этого есть соответствующая функция)."
   ]
  },
  {
   "cell_type": "code",
   "execution_count": 9,
   "metadata": {
    "scrolled": true
   },
   "outputs": [
    {
     "data": {
      "text/plain": [
       "event_time        object\n",
       "order_id           int64\n",
       "product_id         int64\n",
       "category_id      float64\n",
       "category_code     object\n",
       "brand             object\n",
       "price            float64\n",
       "user_id          float64\n",
       "dtype: object"
      ]
     },
     "execution_count": 9,
     "metadata": {},
     "output_type": "execute_result"
    }
   ],
   "source": [
    "# your code\n",
    "data.dtypes\n"
   ]
  },
  {
   "cell_type": "markdown",
   "metadata": {},
   "source": [
    "Выведите среднюю/минимальную/максимальную цену у товара."
   ]
  },
  {
   "cell_type": "code",
   "execution_count": 10,
   "metadata": {},
   "outputs": [
    {
     "data": {
      "text/plain": [
       "154.10163488452605"
      ]
     },
     "execution_count": 10,
     "metadata": {},
     "output_type": "execute_result"
    }
   ],
   "source": [
    "pivot['price'].mean()"
   ]
  },
  {
   "cell_type": "code",
   "execution_count": 11,
   "metadata": {},
   "outputs": [
    {
     "data": {
      "text/plain": [
       "50925.9"
      ]
     },
     "execution_count": 11,
     "metadata": {},
     "output_type": "execute_result"
    }
   ],
   "source": [
    "# your code\n",
    "data['price'].max()"
   ]
  },
  {
   "cell_type": "code",
   "execution_count": 12,
   "metadata": {},
   "outputs": [
    {
     "data": {
      "text/plain": [
       "0.02"
      ]
     },
     "execution_count": 12,
     "metadata": {},
     "output_type": "execute_result"
    }
   ],
   "source": [
    "pivot.price.min()\n"
   ]
  },
  {
   "cell_type": "markdown",
   "metadata": {},
   "source": [
    "Удалите старую колонку с ценой."
   ]
  },
  {
   "cell_type": "code",
   "execution_count": 11,
   "metadata": {},
   "outputs": [],
   "source": [
    "# your code"
   ]
  },
  {
   "cell_type": "markdown",
   "metadata": {},
   "source": [
    "#### 5. Отсортируйте стоимость товаров по убыванию, выведите 7 дорогих товаров. Отсортируйте товары по возрастанию стоимости, выведите 7 дешевых товаров  (по choice_description)\n",
    "\n",
    "Для этого избавьтесь от дубликатов и отсортируйте товары. Не забудьте про количество товара."
   ]
  },
  {
   "cell_type": "code",
   "execution_count": 12,
   "metadata": {
    "scrolled": true
   },
   "outputs": [
    {
     "data": {
      "text/html": [
       "<div>\n",
       "<style scoped>\n",
       "    .dataframe tbody tr th:only-of-type {\n",
       "        vertical-align: middle;\n",
       "    }\n",
       "\n",
       "    .dataframe tbody tr th {\n",
       "        vertical-align: top;\n",
       "    }\n",
       "\n",
       "    .dataframe thead th {\n",
       "        text-align: right;\n",
       "    }\n",
       "</style>\n",
       "<table border=\"1\" class=\"dataframe\">\n",
       "  <thead>\n",
       "    <tr style=\"text-align: right;\">\n",
       "      <th></th>\n",
       "      <th>event_time</th>\n",
       "      <th>order_id</th>\n",
       "      <th>product_id</th>\n",
       "      <th>category_id</th>\n",
       "      <th>category_code</th>\n",
       "      <th>brand</th>\n",
       "      <th>price</th>\n",
       "      <th>user_id</th>\n",
       "    </tr>\n",
       "  </thead>\n",
       "  <tbody>\n",
       "    <tr>\n",
       "      <th>662381</th>\n",
       "      <td>2020-03-02 12:37:20 UTC</td>\n",
       "      <td>2348807496648360494</td>\n",
       "      <td>1515966223510650369</td>\n",
       "      <td>2.268105e+18</td>\n",
       "      <td></td>\n",
       "      <td>spigen</td>\n",
       "      <td>0.02</td>\n",
       "      <td>0.000000e+00</td>\n",
       "    </tr>\n",
       "    <tr>\n",
       "      <th>1086897</th>\n",
       "      <td>2020-05-19 11:17:03 UTC</td>\n",
       "      <td>2353226331455488072</td>\n",
       "      <td>1515966223509731102</td>\n",
       "      <td>2.268105e+18</td>\n",
       "      <td></td>\n",
       "      <td>spigen</td>\n",
       "      <td>0.02</td>\n",
       "      <td>0.000000e+00</td>\n",
       "    </tr>\n",
       "    <tr>\n",
       "      <th>2375975</th>\n",
       "      <td>2020-09-25 11:05:08 UTC</td>\n",
       "      <td>2388440981134541943</td>\n",
       "      <td>1515966223509298809</td>\n",
       "      <td>2.268105e+18</td>\n",
       "      <td></td>\n",
       "      <td>ava</td>\n",
       "      <td>0.02</td>\n",
       "      <td>1.515916e+18</td>\n",
       "    </tr>\n",
       "    <tr>\n",
       "      <th>65657</th>\n",
       "      <td>2020-01-05 15:39:50 UTC</td>\n",
       "      <td>2348710071740923934</td>\n",
       "      <td>1515966223509904220</td>\n",
       "      <td>2.268105e+18</td>\n",
       "      <td></td>\n",
       "      <td>ava</td>\n",
       "      <td>0.02</td>\n",
       "      <td>0.000000e+00</td>\n",
       "    </tr>\n",
       "    <tr>\n",
       "      <th>1329974</th>\n",
       "      <td>2020-06-09 09:00:42 UTC</td>\n",
       "      <td>2353254915008103117</td>\n",
       "      <td>1515966223509262429</td>\n",
       "      <td>2.268105e+18</td>\n",
       "      <td></td>\n",
       "      <td>ava</td>\n",
       "      <td>0.02</td>\n",
       "      <td>0.000000e+00</td>\n",
       "    </tr>\n",
       "    <tr>\n",
       "      <th>1563810</th>\n",
       "      <td>2020-06-29 09:38:13 UTC</td>\n",
       "      <td>2353281489690427879</td>\n",
       "      <td>1515966223509258392</td>\n",
       "      <td>2.268105e+18</td>\n",
       "      <td></td>\n",
       "      <td>ava</td>\n",
       "      <td>0.02</td>\n",
       "      <td>0.000000e+00</td>\n",
       "    </tr>\n",
       "    <tr>\n",
       "      <th>1593194</th>\n",
       "      <td>2020-06-30 07:27:00 UTC</td>\n",
       "      <td>2353284447010292695</td>\n",
       "      <td>1515966223509258198</td>\n",
       "      <td>2.268105e+18</td>\n",
       "      <td></td>\n",
       "      <td>ava</td>\n",
       "      <td>0.02</td>\n",
       "      <td>0.000000e+00</td>\n",
       "    </tr>\n",
       "  </tbody>\n",
       "</table>\n",
       "</div>"
      ],
      "text/plain": [
       "                      event_time             order_id           product_id  \\\n",
       "662381   2020-03-02 12:37:20 UTC  2348807496648360494  1515966223510650369   \n",
       "1086897  2020-05-19 11:17:03 UTC  2353226331455488072  1515966223509731102   \n",
       "2375975  2020-09-25 11:05:08 UTC  2388440981134541943  1515966223509298809   \n",
       "65657    2020-01-05 15:39:50 UTC  2348710071740923934  1515966223509904220   \n",
       "1329974  2020-06-09 09:00:42 UTC  2353254915008103117  1515966223509262429   \n",
       "1563810  2020-06-29 09:38:13 UTC  2353281489690427879  1515966223509258392   \n",
       "1593194  2020-06-30 07:27:00 UTC  2353284447010292695  1515966223509258198   \n",
       "\n",
       "          category_id category_code   brand  price       user_id  \n",
       "662381   2.268105e+18                spigen   0.02  0.000000e+00  \n",
       "1086897  2.268105e+18                spigen   0.02  0.000000e+00  \n",
       "2375975  2.268105e+18                   ava   0.02  1.515916e+18  \n",
       "65657    2.268105e+18                   ava   0.02  0.000000e+00  \n",
       "1329974  2.268105e+18                   ava   0.02  0.000000e+00  \n",
       "1563810  2.268105e+18                   ava   0.02  0.000000e+00  \n",
       "1593194  2.268105e+18                   ava   0.02  0.000000e+00  "
      ]
     },
     "execution_count": 12,
     "metadata": {},
     "output_type": "execute_result"
    }
   ],
   "source": [
    "# your code\n",
    "\n",
    "pivot.sort_values('price').head(7)"
   ]
  },
  {
   "cell_type": "code",
   "execution_count": 13,
   "metadata": {},
   "outputs": [
    {
     "data": {
      "text/html": [
       "<div>\n",
       "<style scoped>\n",
       "    .dataframe tbody tr th:only-of-type {\n",
       "        vertical-align: middle;\n",
       "    }\n",
       "\n",
       "    .dataframe tbody tr th {\n",
       "        vertical-align: top;\n",
       "    }\n",
       "\n",
       "    .dataframe thead th {\n",
       "        text-align: right;\n",
       "    }\n",
       "</style>\n",
       "<table border=\"1\" class=\"dataframe\">\n",
       "  <thead>\n",
       "    <tr style=\"text-align: right;\">\n",
       "      <th></th>\n",
       "      <th>event_time</th>\n",
       "      <th>order_id</th>\n",
       "      <th>product_id</th>\n",
       "      <th>category_id</th>\n",
       "      <th>category_code</th>\n",
       "      <th>brand</th>\n",
       "      <th>price</th>\n",
       "      <th>user_id</th>\n",
       "    </tr>\n",
       "  </thead>\n",
       "  <tbody>\n",
       "    <tr>\n",
       "      <th>1144303</th>\n",
       "      <td>2020-05-26 08:12:38 UTC</td>\n",
       "      <td>2353234364520727464</td>\n",
       "      <td>1515966223509105016</td>\n",
       "      <td>2.374499e+18</td>\n",
       "      <td>electronics.video.tv</td>\n",
       "      <td>samsung</td>\n",
       "      <td>50925.90</td>\n",
       "      <td>0.000000e+00</td>\n",
       "    </tr>\n",
       "    <tr>\n",
       "      <th>28182</th>\n",
       "      <td>2020-06-25 10:08:37 UTC</td>\n",
       "      <td>2339244674033647628</td>\n",
       "      <td>1515966223509131884</td>\n",
       "      <td>2.374499e+18</td>\n",
       "      <td>electronics.video.tv</td>\n",
       "      <td></td>\n",
       "      <td>18328.68</td>\n",
       "      <td>1.515916e+18</td>\n",
       "    </tr>\n",
       "    <tr>\n",
       "      <th>28623</th>\n",
       "      <td>2020-06-26 09:10:44 UTC</td>\n",
       "      <td>2339940319191106553</td>\n",
       "      <td>1515966223509566954</td>\n",
       "      <td>2.374499e+18</td>\n",
       "      <td>electronics.video.tv</td>\n",
       "      <td></td>\n",
       "      <td>13310.16</td>\n",
       "      <td>1.515916e+18</td>\n",
       "    </tr>\n",
       "    <tr>\n",
       "      <th>1627981</th>\n",
       "      <td>2020-07-03 11:59:01 UTC</td>\n",
       "      <td>2353288509000777918</td>\n",
       "      <td>2273948305316643078</td>\n",
       "      <td>2.268105e+18</td>\n",
       "      <td>electronics.video.tv</td>\n",
       "      <td>lg</td>\n",
       "      <td>11574.05</td>\n",
       "      <td>1.515916e+18</td>\n",
       "    </tr>\n",
       "    <tr>\n",
       "      <th>1153319</th>\n",
       "      <td>2020-05-27 06:37:30 UTC</td>\n",
       "      <td>2353235498996073224</td>\n",
       "      <td>2273948305316643078</td>\n",
       "      <td>2.268105e+18</td>\n",
       "      <td>electronics.video.tv</td>\n",
       "      <td>lg</td>\n",
       "      <td>11574.05</td>\n",
       "      <td>0.000000e+00</td>\n",
       "    </tr>\n",
       "    <tr>\n",
       "      <th>2270999</th>\n",
       "      <td>2020-09-16 06:46:10 UTC</td>\n",
       "      <td>2388440981134484484</td>\n",
       "      <td>1515966223520801280</td>\n",
       "      <td>2.374499e+18</td>\n",
       "      <td>electronics.video.tv</td>\n",
       "      <td>samsung</td>\n",
       "      <td>10416.64</td>\n",
       "      <td>1.515916e+18</td>\n",
       "    </tr>\n",
       "    <tr>\n",
       "      <th>8742</th>\n",
       "      <td>2020-05-14 09:09:41 UTC</td>\n",
       "      <td>2308774433587724743</td>\n",
       "      <td>1515966223509105377</td>\n",
       "      <td>2.268105e+18</td>\n",
       "      <td>electronics.smartphone</td>\n",
       "      <td>lg</td>\n",
       "      <td>9606.48</td>\n",
       "      <td>1.515916e+18</td>\n",
       "    </tr>\n",
       "  </tbody>\n",
       "</table>\n",
       "</div>"
      ],
      "text/plain": [
       "                      event_time             order_id           product_id  \\\n",
       "1144303  2020-05-26 08:12:38 UTC  2353234364520727464  1515966223509105016   \n",
       "28182    2020-06-25 10:08:37 UTC  2339244674033647628  1515966223509131884   \n",
       "28623    2020-06-26 09:10:44 UTC  2339940319191106553  1515966223509566954   \n",
       "1627981  2020-07-03 11:59:01 UTC  2353288509000777918  2273948305316643078   \n",
       "1153319  2020-05-27 06:37:30 UTC  2353235498996073224  2273948305316643078   \n",
       "2270999  2020-09-16 06:46:10 UTC  2388440981134484484  1515966223520801280   \n",
       "8742     2020-05-14 09:09:41 UTC  2308774433587724743  1515966223509105377   \n",
       "\n",
       "          category_id           category_code    brand     price       user_id  \n",
       "1144303  2.374499e+18    electronics.video.tv  samsung  50925.90  0.000000e+00  \n",
       "28182    2.374499e+18    electronics.video.tv           18328.68  1.515916e+18  \n",
       "28623    2.374499e+18    electronics.video.tv           13310.16  1.515916e+18  \n",
       "1627981  2.268105e+18    electronics.video.tv       lg  11574.05  1.515916e+18  \n",
       "1153319  2.268105e+18    electronics.video.tv       lg  11574.05  0.000000e+00  \n",
       "2270999  2.374499e+18    electronics.video.tv  samsung  10416.64  1.515916e+18  \n",
       "8742     2.268105e+18  electronics.smartphone       lg   9606.48  1.515916e+18  "
      ]
     },
     "execution_count": 13,
     "metadata": {},
     "output_type": "execute_result"
    }
   ],
   "source": [
    "pivot.sort_values('price',ascending = False).head(7) "
   ]
  },
  {
   "cell_type": "markdown",
   "metadata": {},
   "source": [
    "#### 6. Выведите информацию о том, сколько раз клиенты покупали больше 1 товара apple (brand)?"
   ]
  },
  {
   "cell_type": "code",
   "execution_count": 13,
   "metadata": {},
   "outputs": [
    {
     "data": {
      "text/plain": [
       "7140"
      ]
     },
     "execution_count": 13,
     "metadata": {},
     "output_type": "execute_result"
    }
   ],
   "source": [
    "# your code\n",
    "apple = pivot[pivot.brand == 'apple' ]\n",
    "apple = apple[apple.user_id != 0]\n",
    "apple.insert(1,\"count\", 0)\n",
    "apple = apple.groupby('user_id')[\"count\"].agg(\"count\").reset_index()\n",
    "apple[apple[\"count\"] > 1].shape[0]\n",
    "\n",
    "\n",
    "\n",
    "\n",
    "\n",
    "\n"
   ]
  },
  {
   "cell_type": "markdown",
   "metadata": {},
   "source": [
    "#### 7. Выведите информацию о среднем чеке у заказа и сколько в среднем товаров покупают?\n",
    "\n",
    "Если необходимо провести вычисления в терминах заказов, то будет удобно сгруппировать строки по заказам и посчитать необходимые значения."
   ]
  },
  {
   "cell_type": "code",
   "execution_count": 15,
   "metadata": {},
   "outputs": [],
   "source": [
    "# your code\n",
    "task7_1 = pivot\n",
    "task7_1 = task7_1.groupby('order_id')[[\"price\"]].sum().reset_index()\n",
    "task7_2 = pivot\n",
    "task7_2 = task7_2.groupby('order_id')[[\"product_id\"]].count().reset_index()"
   ]
  },
  {
   "cell_type": "code",
   "execution_count": 16,
   "metadata": {},
   "outputs": [
    {
     "data": {
      "text/plain": [
       "239.55763299031116"
      ]
     },
     "execution_count": 16,
     "metadata": {},
     "output_type": "execute_result"
    }
   ],
   "source": [
    "result7_1 = task7_1.price.mean()\n",
    "result7_1"
   ]
  },
  {
   "cell_type": "code",
   "execution_count": 17,
   "metadata": {},
   "outputs": [
    {
     "data": {
      "text/plain": [
       "1.5545430985843884"
      ]
     },
     "execution_count": 17,
     "metadata": {},
     "output_type": "execute_result"
    }
   ],
   "source": [
    "result7_2 = task7_2.product_id.mean()\n",
    "result7_2"
   ]
  },
  {
   "cell_type": "markdown",
   "metadata": {},
   "source": [
    "#### 8. Выведите количество заказов с 1 товаром."
   ]
  },
  {
   "cell_type": "code",
   "execution_count": 18,
   "metadata": {},
   "outputs": [
    {
     "data": {
      "text/plain": [
       "961289"
      ]
     },
     "execution_count": 18,
     "metadata": {},
     "output_type": "execute_result"
    }
   ],
   "source": [
    "# your code\n",
    "\n",
    "task7_2[task7_2.product_id == 1].shape[0]"
   ]
  },
  {
   "cell_type": "markdown",
   "metadata": {},
   "source": [
    "#### 9. Выведите самую популярную категорию товара."
   ]
  },
  {
   "cell_type": "code",
   "execution_count": 19,
   "metadata": {},
   "outputs": [
    {
     "data": {
      "text/plain": [
       "electronics.smartphone    357662\n",
       "Name: category_code, dtype: int64"
      ]
     },
     "execution_count": 19,
     "metadata": {},
     "output_type": "execute_result"
    }
   ],
   "source": [
    "# your code\n",
    "pivot[pivot.category_code != \"\"].category_code.value_counts().head(1)"
   ]
  },
  {
   "cell_type": "markdown",
   "metadata": {},
   "source": [
    "#### 10. Выведите виды товаров Apple. Какой из них чаще всего покупают? Какой из них самый дорогой? "
   ]
  },
  {
   "cell_type": "code",
   "execution_count": 20,
   "metadata": {},
   "outputs": [
    {
     "data": {
      "text/plain": [
       "electronics.smartphone            46030\n",
       "electronics.audio.headphone        9568\n",
       "electronics.clocks                 5799\n",
       "                                   4059\n",
       "computers.notebook                 3922\n",
       "electronics.tablet                 2578\n",
       "construction.tools.screw           1254\n",
       "computers.components.hdd            725\n",
       "computers.peripherals.mouse         256\n",
       "computers.components.cooler         217\n",
       "computers.desktop                   174\n",
       "computers.peripherals.keyboard      127\n",
       "Name: category_code, dtype: int64"
      ]
     },
     "execution_count": 20,
     "metadata": {},
     "output_type": "execute_result"
    }
   ],
   "source": [
    "# your code\n",
    "pivot[pivot.brand == \"apple\"].category_code.value_counts()\n",
    "\n"
   ]
  },
  {
   "cell_type": "code",
   "execution_count": 15,
   "metadata": {},
   "outputs": [
    {
     "data": {
      "text/html": [
       "<div>\n",
       "<style scoped>\n",
       "    .dataframe tbody tr th:only-of-type {\n",
       "        vertical-align: middle;\n",
       "    }\n",
       "\n",
       "    .dataframe tbody tr th {\n",
       "        vertical-align: top;\n",
       "    }\n",
       "\n",
       "    .dataframe thead th {\n",
       "        text-align: right;\n",
       "    }\n",
       "</style>\n",
       "<table border=\"1\" class=\"dataframe\">\n",
       "  <thead>\n",
       "    <tr style=\"text-align: right;\">\n",
       "      <th></th>\n",
       "      <th>index</th>\n",
       "      <th>order_id</th>\n",
       "    </tr>\n",
       "  </thead>\n",
       "  <tbody>\n",
       "    <tr>\n",
       "      <th>0</th>\n",
       "      <td>16698</td>\n",
       "      <td>2317410142749982986</td>\n",
       "    </tr>\n",
       "  </tbody>\n",
       "</table>\n",
       "</div>"
      ],
      "text/plain": [
       "   index             order_id\n",
       "0  16698  2317410142749982986"
      ]
     },
     "execution_count": 15,
     "metadata": {},
     "output_type": "execute_result"
    }
   ],
   "source": [
    "task10 = pivot[pivot.brand == \"apple\"]\n",
    "task10[task10.price == task10.price.max()].head(1).order_id.reset_index()\n"
   ]
  },
  {
   "cell_type": "markdown",
   "metadata": {
    "collapsed": true
   },
   "source": [
    "#### 11. В каком количестве заказов есть товар, который стоит более 40% от суммы всего чека?\n",
    "\n",
    "Возможно, будет удобно посчитать отдельно средний чек, добавить его в исходные данные и сделать необходимые проверки."
   ]
  },
  {
   "cell_type": "code",
   "execution_count": 22,
   "metadata": {},
   "outputs": [
    {
     "data": {
      "text/plain": [
       "1382047"
      ]
     },
     "execution_count": 22,
     "metadata": {},
     "output_type": "execute_result"
    }
   ],
   "source": [
    "# your code\n",
    "first = pivot.groupby('order_id')['price'].sum()\n",
    "\n",
    "task11 = pd.merge(pivot, first, how='inner',left_on='order_id',right_index = True)\n",
    "\n",
    "task = task11[task11.price_x/task11.price_y > 0.4].groupby('order_id')['order_id'].count()\n",
    "\n",
    "task.shape[0]\n",
    "\n"
   ]
  },
  {
   "cell_type": "markdown",
   "metadata": {},
   "source": [
    "#### 12. Предположим, что в данных была ошибка и товар с product_id 1515966223509089906, который стоил 162.01, должен был стоить 170,02. Скорректируйте данные в таблицы и посчитайте, на какой процент больше денег было заработано с этого товара. Не забывайте, что количество товара не всегда равно 1."
   ]
  },
  {
   "cell_type": "code",
   "execution_count": 23,
   "metadata": {},
   "outputs": [],
   "source": [
    "# your code\n",
    "pivot.loc[pivot.price == 162.01,\"price\"] = 170.02\n",
    "\n",
    "\n"
   ]
  },
  {
   "cell_type": "code",
   "execution_count": 16,
   "metadata": {},
   "outputs": [
    {
     "data": {
      "text/plain": [
       "'4.944139250663548%'"
      ]
     },
     "execution_count": 16,
     "metadata": {},
     "output_type": "execute_result"
    }
   ],
   "source": [
    "str((170.02/162.01-1)*100) + '%'\n",
    "\n"
   ]
  },
  {
   "cell_type": "markdown",
   "metadata": {},
   "source": [
    "#### 13. Создайте новый DateFrame из матрицы, созданной ниже. Назовите колонки index, column1, column2 и сделайте первую колонку индексом."
   ]
  },
  {
   "cell_type": "code",
   "execution_count": 25,
   "metadata": {},
   "outputs": [
    {
     "data": {
      "text/html": [
       "<div>\n",
       "<style scoped>\n",
       "    .dataframe tbody tr th:only-of-type {\n",
       "        vertical-align: middle;\n",
       "    }\n",
       "\n",
       "    .dataframe tbody tr th {\n",
       "        vertical-align: top;\n",
       "    }\n",
       "\n",
       "    .dataframe thead th {\n",
       "        text-align: right;\n",
       "    }\n",
       "</style>\n",
       "<table border=\"1\" class=\"dataframe\">\n",
       "  <thead>\n",
       "    <tr style=\"text-align: right;\">\n",
       "      <th></th>\n",
       "      <th>column1</th>\n",
       "      <th>column2</th>\n",
       "    </tr>\n",
       "    <tr>\n",
       "      <th>index</th>\n",
       "      <th></th>\n",
       "      <th></th>\n",
       "    </tr>\n",
       "  </thead>\n",
       "  <tbody>\n",
       "    <tr>\n",
       "      <th>0.086496</th>\n",
       "      <td>0.220262</td>\n",
       "      <td>0.827139</td>\n",
       "    </tr>\n",
       "    <tr>\n",
       "      <th>0.156425</th>\n",
       "      <td>0.238344</td>\n",
       "      <td>0.393774</td>\n",
       "    </tr>\n",
       "    <tr>\n",
       "      <th>0.383620</th>\n",
       "      <td>0.396813</td>\n",
       "      <td>0.338279</td>\n",
       "    </tr>\n",
       "    <tr>\n",
       "      <th>0.599532</th>\n",
       "      <td>0.872319</td>\n",
       "      <td>0.068895</td>\n",
       "    </tr>\n",
       "    <tr>\n",
       "      <th>0.220510</th>\n",
       "      <td>0.339463</td>\n",
       "      <td>0.261376</td>\n",
       "    </tr>\n",
       "    <tr>\n",
       "      <th>0.318557</th>\n",
       "      <td>0.342489</td>\n",
       "      <td>0.106544</td>\n",
       "    </tr>\n",
       "    <tr>\n",
       "      <th>0.730579</th>\n",
       "      <td>0.772709</td>\n",
       "      <td>0.918959</td>\n",
       "    </tr>\n",
       "    <tr>\n",
       "      <th>0.258996</th>\n",
       "      <td>0.158557</td>\n",
       "      <td>0.272050</td>\n",
       "    </tr>\n",
       "    <tr>\n",
       "      <th>0.343150</th>\n",
       "      <td>0.294529</td>\n",
       "      <td>0.056076</td>\n",
       "    </tr>\n",
       "    <tr>\n",
       "      <th>0.708768</th>\n",
       "      <td>0.964500</td>\n",
       "      <td>0.967946</td>\n",
       "    </tr>\n",
       "  </tbody>\n",
       "</table>\n",
       "</div>"
      ],
      "text/plain": [
       "           column1   column2\n",
       "index                       \n",
       "0.086496  0.220262  0.827139\n",
       "0.156425  0.238344  0.393774\n",
       "0.383620  0.396813  0.338279\n",
       "0.599532  0.872319  0.068895\n",
       "0.220510  0.339463  0.261376\n",
       "0.318557  0.342489  0.106544\n",
       "0.730579  0.772709  0.918959\n",
       "0.258996  0.158557  0.272050\n",
       "0.343150  0.294529  0.056076\n",
       "0.708768  0.964500  0.967946"
      ]
     },
     "execution_count": 25,
     "metadata": {},
     "output_type": "execute_result"
    }
   ],
   "source": [
    "data = np.random.rand(10, 3)\n",
    "# your cod\n",
    "dataframe = pd.DataFrame(data,columns = ['index','column1','column2'])\n",
    "dataframe.set_index('index', inplace = True)\n",
    "dataframe"
   ]
  },
  {
   "cell_type": "markdown",
   "metadata": {},
   "source": [
    "Сохраните DataFrame локально в формате csv без индексов и названий столбцов."
   ]
  },
  {
   "cell_type": "code",
   "execution_count": 329,
   "metadata": {},
   "outputs": [],
   "source": [
    "# your code\n",
    "dataframe.to_csv('Mtuci-tuci.csv',header=False,index=False)"
   ]
  },
  {
   "cell_type": "markdown",
   "metadata": {},
   "source": [
    "## 2. Визуализации и matplotlib"
   ]
  },
  {
   "cell_type": "markdown",
   "metadata": {},
   "source": [
    "Библиотека matplotlib - это бибилиотека двумерной графики для языка программирования python с помощью которой можно создавать высококачественные рисунки различных форматов. Matplotlib представляет собой модуль-пакет для python.\n",
    "Matplotlib cостоит из множества модулей. Модули наполнены различными классами и функциями, которые иерархически связаны между собой."
   ]
  },
  {
   "cell_type": "code",
   "execution_count": 47,
   "metadata": {},
   "outputs": [],
   "source": [
    "%matplotlib inline  \n",
    "# нужно для отображения графиков внутри ноутбука\n",
    "import matplotlib.pyplot as plt\n",
    "import seaborn as sns\n",
    "sns.set(style='whitegrid')"
   ]
  },
  {
   "cell_type": "markdown",
   "metadata": {},
   "source": [
    "На самом деле мы уже импортировали matplotlib внутри %pylab inline в начале задания.\n",
    "\n",
    "Работать мы будем с той же выборкой покупкок. Добавим новую колонку с датой покупки."
   ]
  },
  {
   "cell_type": "code",
   "execution_count": 48,
   "metadata": {},
   "outputs": [],
   "source": [
    "import datetime\n",
    "\n",
    "start = datetime.datetime(2018, 1, 1)\n",
    "end = datetime.datetime(2018, 1, 31)\n",
    "delta_seconds = int((end - start).total_seconds())\n",
    "\n",
    "dates = pd.DataFrame(index=pivot.order_id.unique())\n",
    "dates['date'] = [\n",
    "    (start + datetime.timedelta(seconds=random.randint(0, delta_seconds))).strftime('%Y-%m-%d')\n",
    "    for _ in range(pivot.order_id.nunique())]\n",
    "\n",
    "# если DataFrame с покупками из прошлого заказа называется не df, замените на ваше название ниже\n",
    "pivot['date'] = pivot.order_id.map(dates['date'])\n"
   ]
  },
  {
   "cell_type": "markdown",
   "metadata": {},
   "source": [
    "#### 1. Постройте гистограмму распределения сумм покупок и гистограмму средних цен отдельных видов продуктов product_id. \n",
    "\n",
    "Изображайте на двух соседних графиках. Для используйте subplot."
   ]
  },
  {
   "cell_type": "code",
   "execution_count": 49,
   "metadata": {},
   "outputs": [
    {
     "data": {
      "image/png": "[encoded data removed]",
      "text/plain": [
       "<Figure size 432x288 with 2 Axes>"
      ]
     },
     "metadata": {},
     "output_type": "display_data"
    }
   ],
   "source": [
    "# your code\n",
    "import matplotlib.pyplot as myplt\n",
    "#групптровка по заказам и суммы заказов\n",
    "newData=pivot.groupby('order_id').agg({'price': 'sum'}).reset_index()\n",
    "plt.subplot(1, 2, 1)\n",
    "plt.plot(newData.order_id,newData.price)\n",
    "\n",
    "#группировка по продуктам и их средняя цена\n",
    "newData2=pivot.groupby('product_id').agg({'price': 'mean'}).reset_index()\n",
    "plt.subplot(1, 2, 2)\n",
    "plt.plot(newData2.product_id,newData2.price)\n",
    "plt.show()"
   ]
  },
  {
   "cell_type": "markdown",
   "metadata": {},
   "source": [
    "#### 2. Постройте график зависимости суммы покупок от дней."
   ]
  },
  {
   "cell_type": "code",
   "execution_count": 46,
   "metadata": {},
   "outputs": [
    {
     "data": {
      "image/png": "[encoded data removed]",
      "text/plain": [
       "<Figure size 432x288 with 1 Axes>"
      ]
     },
     "metadata": {},
     "output_type": "display_data"
    }
   ],
   "source": [
    "newData3=pivot.groupby('date').agg({'price': 'sum'}).reset_index()\n",
    "plt.plot(newData3.date,newData3.price,color = 'red')\n",
    "plt.xlabel('Дата')\n",
    "plt.ylabel('Сумма покупок')\n",
    "plt.show()"
   ]
  },
  {
   "cell_type": "markdown",
   "metadata": {},
   "source": [
    "#### 3. Постройте средних сумм покупок по дням недели (bar plot)."
   ]
  },
  {
   "cell_type": "code",
   "execution_count": 38,
   "metadata": {},
   "outputs": [],
   "source": [
    "# your code\n",
    "from datetime import datetime, timedelta\n",
    "\n",
    "pivot['Datetime'] = pd.to_datetime(pivot['date'])\n",
    "sub = []\n",
    "[sub.append(row['Datetime'].weekday()) for i, row in pivot.iterrows()]\n",
    "\n",
    "pivot['Weekdays'] = sub"
   ]
  },
  {
   "cell_type": "code",
   "execution_count": 40,
   "metadata": {},
   "outputs": [
    {
     "data": {
      "image/png": "[encoded data removed]",
      "text/plain": [
       "<Figure size 432x288 with 1 Axes>"
      ]
     },
     "metadata": {},
     "output_type": "display_data"
    }
   ],
   "source": [
    "newData4=pivot.groupby('Weekdays').agg({'price': 'mean'}).reset_index()\n",
    "plt.plot(newData4.Weekdays,newData4.price)\n",
    "plt.xlabel('Номер дня недели')\n",
    "plt.ylabel('Средняя сумма покупок')\n",
    "plt.show()"
   ]
  },
  {
   "cell_type": "markdown",
   "metadata": {},
   "source": [
    "#### 4. Постройте график зависимости денег за товар от купленного количества (scatter plot)."
   ]
  },
  {
   "cell_type": "code",
   "execution_count": 51,
   "metadata": {},
   "outputs": [
    {
     "name": "stderr",
     "output_type": "stream",
     "text": [
      "/opt/homebrew/lib/python3.9/site-packages/seaborn/_decorators.py:36: FutureWarning: Pass the following variables as keyword args: x, y. From version 0.12, the only valid positional argument will be `data`, and passing other arguments without an explicit keyword will result in an error or misinterpretation.\n",
      "  warnings.warn(\n"
     ]
    },
    {
     "data": {
      "image/png": "[encoded data removed]",
      "text/plain": [
       "<Figure size 720x504 with 1 Axes>"
      ]
     },
     "metadata": {},
     "output_type": "display_data"
    }
   ],
   "source": [
    "# your code\n",
    "plt.figure(figsize=(10, 7))\n",
    "x1 = pivot['order_id'].values\n",
    "y1 = pivot['price'].values\n",
    "sns.scatterplot(x1, y1, label='График цены')\n",
    "plt.xlabel('Кол-во')\n",
    "plt.ylabel('Цена за весь товар')\n",
    "plt.legend()\n",
    "plt.show()"
   ]
  },
  {
   "cell_type": "markdown",
   "metadata": {},
   "source": [
    "Сохраните график в формате pdf (так он останется векторизованным)."
   ]
  },
  {
   "cell_type": "code",
   "execution_count": 42,
   "metadata": {},
   "outputs": [
    {
     "data": {
      "text/plain": [
       "<Figure size 432x288 with 0 Axes>"
      ]
     },
     "metadata": {},
     "output_type": "display_data"
    }
   ],
   "source": [
    "# your code\n",
    "plt.savefig('Figure.pdf')"
   ]
  },
  {
   "cell_type": "markdown",
   "metadata": {},
   "source": [
    "Кстати, существует надстройка над matplotlib под названием [seaborn](https://jakevdp.github.io/PythonDataScienceHandbook/04.14-visualization-with-seaborn.html). Иногда удобнее и красивее делать визуализации через неё. "
   ]
  }
 ],
 "metadata": {
  "kernel_info": {
   "name": "py36"
  },
  "kernelspec": {
   "display_name": "Python 3 (ipykernel)",
   "language": "python",
   "name": "python3"
  },
  "language_info": {
   "codemirror_mode": {
    "name": "ipython",
    "version": 3
   },
   "file_extension": ".py",
   "mimetype": "text/x-python",
   "name": "python",
   "nbconvert_exporter": "python",
   "pygments_lexer": "ipython3",
   "version": "3.9.10"
  },
  "nteract": {
   "version": "0.11.6"
  }
 },
 "nbformat": 4,
 "nbformat_minor": 2
}
